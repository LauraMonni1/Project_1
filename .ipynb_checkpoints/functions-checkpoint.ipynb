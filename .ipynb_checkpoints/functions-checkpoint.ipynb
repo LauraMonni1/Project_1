{
 "cells": [
  {
   "cell_type": "markdown",
   "id": "f9a6f8e3-d559-4314-af2f-68b04f1cf647",
   "metadata": {},
   "source": [
    "# Functions.py"
   ]
  },
  {
   "cell_type": "code",
   "execution_count": 1,
   "id": "144c9a7b-b774-49f1-8bf6-475cf905f82f",
   "metadata": {},
   "outputs": [],
   "source": [
    "def extract_data(xml_root_element):\n",
    "\n",
    "    \"\"\" Function to extract the data from the first tag of the XML file string, contained in the main root (Response). It returns a dictionary \n",
    "    having the tags (attribute .tag) of the child elements (for example \"donor age\" in <donor--age>25 yrs</donor--age>) as keys and \n",
    "    the text content (attribute .text) as value (\"25 yrs\" in <donor--age>25 yrs</donor--age>). \n",
    "    -> This function can be executed inside the create_dataframe() function of function.py\"\"\"\n",
    "    \n",
    "    data = {}\n",
    "    for child in xml_root_element:\n",
    "        data[child.tag] = child.text\n",
    "    return data     "
   ]
  },
  {
   "cell_type": "code",
   "execution_count": 2,
   "id": "1cced7c5-80a4-4ad8-86d1-101bb15d1e47",
   "metadata": {},
   "outputs": [],
   "source": [
    "def create_dataframe(first_tag:str):\n",
    "    \"\"\" The function creates a dataframe from XLM files from which the data were extracted with extract_data() function.\n",
    "    As argument it takes the first tag (string) within the root that incorporates all the elements associated\"\"\"\n",
    "    df_rows = []\n",
    "    for x in root.findall(first_tag):\n",
    "        df_rows.append(fun.extract_data(x))\n",
    "\n",
    "    df = pd.DataFrame(df_rows)\n",
    "\n",
    "    return df"
   ]
  },
  {
   "cell_type": "markdown",
   "id": "0e5344af-d911-43fa-8375-2a0a24e82841",
   "metadata": {},
   "source": [
    "To exctract data and obtain a Pandas DataFrame from an API returning XML files:\n",
    "\n",
    "1) import pandas, requests and xml.etree.ElementTree libraries\n",
    "2) import functions as fun (import the functions of functions.py, use \"fun\" as alias)\n",
    "3) define url\n",
    "4) define criteria to extract specific data (the criteria are specified in the Allen Brain website as RMA queries and are strings)\n",
    "5) create a variable \"response\" that stores the get request taking as argument the url and as params the criteria (params = {\"criteria\":criteria})\n",
    "6) check the status_code of \"response\" (has to be 200, so \"approved\")\n",
    "7) create the variable \"data\" that stored the XML file (\"response\") as text (using the attribute .text)\n",
    "8) Find the main root with ElementTree library method et.fromstring()\n",
    "9) Look at the first lines of XML document to find the first tag within the root that incorporates all elements (usually the tag in the second line) -> print(data)[:10]\n",
    "10) Execute the function create_dataframe() taking as argument the first tag found at point 9 as string (\".//first_tag\")\n",
    "11) Save the dataframe as \"raw_data.csv\" -> df.to_csv(\"raw_data.csv\")\n",
    "12) create a copy of the raw dataframe and work on it!"
   ]
  },
  {
   "cell_type": "markdown",
   "id": "0750de0c-f5e7-4c20-9d34-5f6c99eef4bd",
   "metadata": {},
   "source": [
    "### Cleaning and formatting data in different columns"
   ]
  },
  {
   "cell_type": "code",
   "execution_count": 4,
   "id": "79c44bd5-393d-4092-b535-02f511954938",
   "metadata": {},
   "outputs": [],
   "source": [
    "def rename_ef(df):\n",
    "    \"Function that renames the column starting with ef-- (=electrophysiology), by removing ef--\"\"\"\n",
    "    df.columns = [x.replace(\"ef--\", \"\") if x.startswith(\"ef--\") else x for x in df.columns]\n",
    "\n",
    "    return df"
   ]
  },
  {
   "cell_type": "code",
   "execution_count": 9,
   "id": "f8bdae41-05bc-4ce4-93c1-0d4bf274c6a0",
   "metadata": {},
   "outputs": [],
   "source": [
    "def n_age(df):\n",
    "    \"\"\" Function to format age. Age data are strings in the format of \"n yrs\" (string), \n",
    "    thus the function removes \"yrs\" and converts the numbers to integers. \n",
    "    The function handles NaN values and leaves them as they are, if present\"\"\"\n",
    "    \n",
    "    df[\"donor--age\"] = df[\"donor--age\"].str.replace(\" yrs\", \"\")\n",
    "    #df[\"donor--age\"] = [int(x) if pd.notnull(x) else np.nan for x in df[\"donor--age\"]]\n",
    "    df[\"donor--age\"] = df[\"donor--age\"].apply(lambda x: int(x) if pd.notnull(x) else np.nan)\n",
    "\n",
    "    return df"
   ]
  },
  {
   "cell_type": "code",
   "execution_count": 11,
   "id": "34fc5a65-4a39-4848-b39b-c121e2090134",
   "metadata": {},
   "outputs": [],
   "source": [
    "def age_category(age):\n",
    "    \"\"\"Functions that creates age categories. \n",
    "    It returns different categories of age, so can be applied to the column \"donor--age\" \n",
    "    and to create a new column where each donor has an assignedage category\"\"\"\n",
    "\n",
    "    if isinstance(age, int):\n",
    "        if 18 <= age <= 24:\n",
    "            return \"18-24 years\"\n",
    "        elif 25 <= age <= 30:\n",
    "            return \"25-30 years\"\n",
    "        elif 31 <= age <= 40:\n",
    "            return \"31-40 years\"\n",
    "        elif 41 <= age <= 50 :\n",
    "            return \"41-50 years\"\n",
    "        elif 51 <= age <= 65:\n",
    "            return \"51-65 years\"\n",
    "        elif 66 <= age <= 83:\n",
    "            return \"66-83 years\"\n",
    "        else:\n",
    "            return np.nan\n",
    "    else:\n",
    "        return np.nan"
   ]
  },
  {
   "cell_type": "code",
   "execution_count": 6,
   "id": "525926ad-bfbe-4801-b276-eaa4228db540",
   "metadata": {},
   "outputs": [],
   "source": [
    "def format_firing(df):\n",
    "    \"\"\" Function that converts the firing rates object in floats with two decimals. \n",
    "    It handles NaN values and leaves them as they are, if present\"\"\"\n",
    "    \n",
    "    df[\"avg-firing-rate\"] = df[\"avg-firing-rate\"].apply(lambda x: round(float(x), 2) if pd.notnull(x) else np.nan)\n",
    "\n",
    "    return df"
   ]
  },
  {
   "cell_type": "code",
   "execution_count": 7,
   "id": "8a87fcb0-d144-4d90-8a89-9dee38a51924",
   "metadata": {},
   "outputs": [],
   "source": [
    "def format_curve_slope(df):\n",
    "    \"\"\" Function that converts values of f-i curve slope from strings to floats with 3 decimals.\n",
    "    It handles NaN values and leaves them as they are, if present\"\"\"\n",
    "    \n",
    "    df[\"f-i-curve-slope\"] = df[\"f-i-curve-slope\"].apply(lambda x: round(float(x), 3) if pd.notnull(x) else np.nan)\n",
    "\n",
    "    return df"
   ]
  },
  {
   "cell_type": "code",
   "execution_count": null,
   "id": "29defb52-d5c0-4b5c-bbf1-d3889ae541e5",
   "metadata": {},
   "outputs": [],
   "source": []
  }
 ],
 "metadata": {
  "kernelspec": {
   "display_name": "Python 3 (ipykernel)",
   "language": "python",
   "name": "python3"
  },
  "language_info": {
   "codemirror_mode": {
    "name": "ipython",
    "version": 3
   },
   "file_extension": ".py",
   "mimetype": "text/x-python",
   "name": "python",
   "nbconvert_exporter": "python",
   "pygments_lexer": "ipython3",
   "version": "3.11.5"
  }
 },
 "nbformat": 4,
 "nbformat_minor": 5
}
