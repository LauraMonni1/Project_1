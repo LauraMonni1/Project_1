{
 "cells": [
  {
   "cell_type": "markdown",
   "id": "f9a6f8e3-d559-4314-af2f-68b04f1cf647",
   "metadata": {},
   "source": [
    "# Functions.py"
   ]
  },
  {
   "cell_type": "code",
   "execution_count": 1,
   "id": "144c9a7b-b774-49f1-8bf6-475cf905f82f",
   "metadata": {},
   "outputs": [],
   "source": [
    "def extract_data(xml_root_element):\n",
    "\n",
    "    \"\"\" Function to extract the data from the first tag of the XML file string, contained in the main root (Response). It returns a dictionary \n",
    "    having the tags (attribute .tag) of the child elements (for example \"donor age\" in <donor--age>25 yrs</donor--age>) as keys and \n",
    "    the text content (attribute .text) as value (\"25 yrs\" in <donor--age>25 yrs</donor--age>). \n",
    "    -> This function can be executed inside the create_dataframe() function of function.py\"\"\"\n",
    "    \n",
    "    data = {}\n",
    "    for child in xml_root_element:\n",
    "        data[child.tag] = child.text\n",
    "    return data     "
   ]
  },
  {
   "cell_type": "code",
   "execution_count": 2,
   "id": "1cced7c5-80a4-4ad8-86d1-101bb15d1e47",
   "metadata": {},
   "outputs": [],
   "source": [
    "def create_dataframe(first_tag:str):\n",
    "    \"\"\" The function creates a dataframe from XLM files from which the data were extracted with extract_data() function.\n",
    "    As argument it takes the first tag (string) within the root that incorporates all the elements associated\"\"\"\n",
    "    df_rows = []\n",
    "    for x in root.findall(first_tag):\n",
    "        df_rows.append(fun.extract_data(x))\n",
    "\n",
    "    df = pd.DataFrame(df_rows)\n",
    "\n",
    "    return df"
   ]
  },
  {
   "cell_type": "markdown",
   "id": "0e5344af-d911-43fa-8375-2a0a24e82841",
   "metadata": {},
   "source": [
    "To exctract data and obtain a Pandas DataFrame from an API returning XML files:\n",
    "\n",
    "1) import pandas, requests and xml.etree.ElementTree libraries\n",
    "2) import functions as fun (import the functions of functions.py, use \"fun\" as alias)\n",
    "3) define url\n",
    "4) define criteria to extract specific data (the criteria are specified in the Allen Brain website as RMA queries and are strings)\n",
    "5) create a variable \"response\" that stores the get request taking as argument the url and as params the criteria (params = {\"criteria\":criteria})\n",
    "6) check the status_code of \"response\" (has to be 200, so \"approved\")\n",
    "7) create the variable \"data\" that stored the XML file (\"response\") as text (using the attribute .text)\n",
    "8) Find the main root with ElementTree library method et.fromstring()\n",
    "9) Look at the first lines of XML document to find the first tag within the root that incorporates all elements (usually the tag in the second line) -> print(data)[:10]\n",
    "10) Execute the function create_dataframe() taking as argument the first tag found at point 9 as string (\".//first_tag\")\n",
    "11) Save the dataframe as \"raw_data.csv\" -> df.to_csv(\"raw_data.csv\")\n",
    "12) create a copy of the raw dataframe and work on it!"
   ]
  },
  {
   "cell_type": "markdown",
   "id": "0750de0c-f5e7-4c20-9d34-5f6c99eef4bd",
   "metadata": {},
   "source": [
    "### Cleaning and formatting data in different columns"
   ]
  },
  {
   "cell_type": "code",
   "execution_count": 1,
   "id": "0630d1e6-b83a-4b42-a664-cf48078c940e",
   "metadata": {},
   "outputs": [],
   "source": [
    "def drop_col(df):\n",
    "    \"\"\"The functon drops any column containing all null values and specific columns not needed for the analysis\"\"\"\n",
    "    \n",
    "    df.dropna(how=\"all\", inplace = True)\n",
    "    df.drop([\"Unnamed: 0\", \"donor--id\", \"donor--name\", \"donor--race\", \"donor--species\", \"threshold-i-long-square\", \"fast-trough-v-long-square\",\n",
    "             \"peak-t-ramp\", \"tau\", \"upstroke-downstroke-ratio-long-square\", \"ephys-inst-thresh-thumb-path\", \"erwkf--id\", \"m--biophys-perisomatic\",\n",
    "             \"m--glif\", \"nr--average-contraction\", \"nr--average-parent-daughter-ratio\", \"nr--number-stems\", \"specimen--id\", \"structure--acronym\", \n",
    "             \"tag--apical\"], axis = 1, inplace = True)\n",
    "    return df "
   ]
  },
  {
   "cell_type": "code",
   "execution_count": 2,
   "id": "79c44bd5-393d-4092-b535-02f511954938",
   "metadata": {},
   "outputs": [],
   "source": [
    "def rename_ef(df):\n",
    "    \"\"\"Function that renames the column starting with ef-- (=electrophysiology), by removing ef--\"\"\"\n",
    "    \n",
    "    df.columns = [x.replace(\"ef--\", \"\") if x.startswith(\"ef--\") else x for x in df.columns]\n",
    "\n",
    "    return df"
   ]
  },
  {
   "cell_type": "code",
   "execution_count": 1,
   "id": "cd9c968c-82fc-4227-9728-47a519e85b2a",
   "metadata": {},
   "outputs": [],
   "source": [
    "def round_col(df):\n",
    "\n",
    "    \"\"\"The function rounds to 2 decimals the vlaues in columns 'vrest', 'avg-isi' and 'ri', \n",
    "    and to 3 decimals the values in the column 'adaptation' \"\"\"\n",
    "    \n",
    "    df[\"adaptation\"] = df[\"adaptation\"].apply(lambda x: round(x, 3))\n",
    "    df[\"vrest\"] = df[\"vrest\"].apply(lambda x: round(x, 2))\n",
    "    df[\"avg-isi\"] = df[\"avg-isi\"].apply(lambda x: round(x, 2))\n",
    "    df[\"ri\"] = df[\"ri\"].apply(lambda x: round(x, 2))\n",
    "\n",
    "    return df"
   ]
  },
  {
   "cell_type": "code",
   "execution_count": 9,
   "id": "f8bdae41-05bc-4ce4-93c1-0d4bf274c6a0",
   "metadata": {},
   "outputs": [],
   "source": [
    "def n_age(df):\n",
    "    \"\"\" Function to format age. Age data are strings in the format of \"n yrs\" (string), \n",
    "    thus the function removes \"yrs\" and converts the numbers to integers. \n",
    "    The function handles NaN values and leaves them as they are, if present\"\"\"\n",
    "    \n",
    "    df[\"donor--age\"] = df[\"donor--age\"].str.replace(\" yrs\", \"\")\n",
    "    #df[\"donor--age\"] = [int(x) if pd.notnull(x) else np.nan for x in df[\"donor--age\"]]\n",
    "    df[\"donor--age\"] = df[\"donor--age\"].apply(lambda x: int(x) if pd.notnull(x) else np.nan)\n",
    "\n",
    "    return df"
   ]
  },
  {
   "cell_type": "code",
   "execution_count": 11,
   "id": "34fc5a65-4a39-4848-b39b-c121e2090134",
   "metadata": {},
   "outputs": [],
   "source": [
    "def age_category(age):\n",
    "    \"\"\"Functions that creates age categories. \n",
    "    It returns different categories of age, so can be applied to the column \"donor--age\" \n",
    "    and to create a new column where each donor has an assignedage category\"\"\"\n",
    "\n",
    "    if isinstance(age, int):\n",
    "        if 18 <= age <= 24:\n",
    "            return \"18-24 years\"\n",
    "        elif 25 <= age <= 30:\n",
    "            return \"25-30 years\"\n",
    "        elif 31 <= age <= 40:\n",
    "            return \"31-40 years\"\n",
    "        elif 41 <= age <= 50 :\n",
    "            return \"41-50 years\"\n",
    "        elif 51 <= age <= 65:\n",
    "            return \"51-65 years\"\n",
    "        elif 66 <= age <= 83:\n",
    "            return \"66-83 years\"\n",
    "        else:\n",
    "            return np.nan\n",
    "    else:\n",
    "        return np.nan"
   ]
  },
  {
   "cell_type": "code",
   "execution_count": 6,
   "id": "525926ad-bfbe-4801-b276-eaa4228db540",
   "metadata": {},
   "outputs": [],
   "source": [
    "def format_firing(df):\n",
    "    \"\"\" Function that converts the firing rates object in floats with two decimals. \n",
    "    It handles NaN values and leaves them as they are, if present\"\"\"\n",
    "    \n",
    "    df[\"avg-firing-rate\"] = df[\"avg-firing-rate\"].apply(lambda x: round(float(x), 2) if pd.notnull(x) else np.nan)\n",
    "\n",
    "    return df"
   ]
  },
  {
   "cell_type": "code",
   "execution_count": 7,
   "id": "8a87fcb0-d144-4d90-8a89-9dee38a51924",
   "metadata": {},
   "outputs": [],
   "source": [
    "def format_curve_slope(df):\n",
    "    \"\"\" Function that converts values of f-i curve slope from strings to floats with 3 decimals.\n",
    "    It handles NaN values and leaves them as they are, if present\"\"\"\n",
    "    \n",
    "    df[\"f-i-curve-slope\"] = df[\"f-i-curve-slope\"].apply(lambda x: round(float(x), 3) if pd.notnull(x) else np.nan)\n",
    "\n",
    "    return df"
   ]
  },
  {
   "cell_type": "code",
   "execution_count": null,
   "id": "29defb52-d5c0-4b5c-bbf1-d3889ae541e5",
   "metadata": {},
   "outputs": [],
   "source": [
    "def categorize_regions(df):\n",
    "\n",
    "    \"\"\" Function to group different subregions in the correspondent lobes. \"\"\"\n",
    "    \n",
    "    mapping = {'\"frontal lobe\"' : 'frontal lobe',\n",
    "               '\"middle temporal gyrus\"' : 'temporal lobe',\n",
    "               '\"temporal lobe\"': 'temporal lobe',\n",
    "               '\"middle frontal gyrus\"' : 'frontal lobe',\n",
    "               '\"planum polare\"' : 'planum polare',\n",
    "               '\"angular gyrus\"' : 'angular gyrus',\n",
    "               '\"superior frontal gyrus\"': 'frontal lobe',\n",
    "               '\"inferior temporal gyrus\"' : 'temporal lobe',\n",
    "               '\"inferior frontal gyrus\"' : 'frontal lobe'}\n",
    "    \n",
    "    df[\"structure--name\"] = df[\"structure--name\"].replace(mapping)\n",
    "\n",
    "    return df"
   ]
  }
 ],
 "metadata": {
  "kernelspec": {
   "display_name": "Python 3 (ipykernel)",
   "language": "python",
   "name": "python3"
  },
  "language_info": {
   "codemirror_mode": {
    "name": "ipython",
    "version": 3
   },
   "file_extension": ".py",
   "mimetype": "text/x-python",
   "name": "python",
   "nbconvert_exporter": "python",
   "pygments_lexer": "ipython3",
   "version": "3.11.5"
  }
 },
 "nbformat": 4,
 "nbformat_minor": 5
}
